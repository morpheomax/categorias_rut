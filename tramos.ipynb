{
 "cells": [
  {
   "cell_type": "code",
   "execution_count": 3,
   "id": "f9169936",
   "metadata": {},
   "outputs": [
    {
     "name": "stderr",
     "output_type": "stream",
     "text": [
      "2025-06-02 16:23:01.197 \n",
      "  \u001b[33m\u001b[1mWarning:\u001b[0m to view this Streamlit app on a browser, run it with the following\n",
      "  command:\n",
      "\n",
      "    streamlit run c:\\Users\\MaximilianoSandoval\\anaconda3\\Lib\\site-packages\\ipykernel_launcher.py [ARGUMENTS]\n"
     ]
    },
    {
     "name": "stdout",
     "output_type": "stream",
     "text": [
      "        RUT Tramo\n",
      "0  50000510    C3\n",
      "1  50000710    C3\n",
      "2  50001570    C3\n",
      "3  50001700    C3\n",
      "4  50001900    C3\n"
     ]
    }
   ],
   "source": [
    "# Utilizamos streamlit para publicar el archivo con un buscador de rut\n",
    "import streamlit as st\n",
    "import pandas as pd\n",
    "\n",
    "st.title('Buscador de RUT en Chile ABC Tramos 2023')\n",
    "# Cargamos el dataframe\n",
    "df = pd.read_csv('Chile_ABC_Tramos2023 1.txt', sep=';', header=0)\n",
    "# Mostramos las primeras filas del dataframe\n",
    "#asignamos cabecera, RUT, Tramo\n",
    "df.columns = ['RUT', 'Tramo']\n",
    "# Mostramos las primeras filas del dataframe    \n",
    "print(df.head())"
   ]
  },
  {
   "cell_type": "code",
   "execution_count": null,
   "id": "2b3b2ee7",
   "metadata": {},
   "outputs": [],
   "source": []
  }
 ],
 "metadata": {
  "kernelspec": {
   "display_name": "base",
   "language": "python",
   "name": "python3"
  },
  "language_info": {
   "codemirror_mode": {
    "name": "ipython",
    "version": 3
   },
   "file_extension": ".py",
   "mimetype": "text/x-python",
   "name": "python",
   "nbconvert_exporter": "python",
   "pygments_lexer": "ipython3",
   "version": "3.12.7"
  }
 },
 "nbformat": 4,
 "nbformat_minor": 5
}
